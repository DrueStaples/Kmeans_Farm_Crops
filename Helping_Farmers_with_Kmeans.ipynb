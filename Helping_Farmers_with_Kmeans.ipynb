{
  "nbformat": 4,
  "nbformat_minor": 0,
  "metadata": {
    "colab": {
      "name": "Helping_Farmers_with_Kmeans.ipynb",
      "version": "0.3.2",
      "provenance": [],
      "collapsed_sections": [],
      "include_colab_link": true
    },
    "kernelspec": {
      "name": "python3",
      "display_name": "Python 3"
    }
  },
  "cells": [
    {
      "cell_type": "markdown",
      "metadata": {
        "id": "view-in-github",
        "colab_type": "text"
      },
      "source": [
        "<a href=\"https://colab.research.google.com/github/DrueStaples/Kmeans_Farm_Crops/blob/master/Helping_Farmers_with_Kmeans.ipynb\" target=\"_parent\"><img src=\"https://colab.research.google.com/assets/colab-badge.svg\" alt=\"Open In Colab\"/></a>"
      ]
    },
    {
      "metadata": {
        "id": "u0_PW_N-bIAq",
        "colab_type": "text"
      },
      "cell_type": "markdown",
      "source": [
        "#Welcome Everyone! Today we are going to be helping an agriculturer determine what can help his/her crops grow more efficiently! The farmer has tested out different methods (varying water, light, fertilizer, etc.) and in result is coming out with some crops doing better than others. The farmer needs our help to understand the data more so they can proceed with growing his/her farm. We will be taking in a set of individual crop-heights that have been  recorded from their land in hopes that we can find similarities within the groups. Let's get started, shall we?!"
      ]
    },
    {
      "metadata": {
        "id": "UGBAiu6Dzvch",
        "colab_type": "code",
        "colab": {
          "base_uri": "https://localhost:8080/",
          "height": 270
        },
        "outputId": "92a5e046-0c90-4c9b-cb06-9abc6a9e170f"
      },
      "cell_type": "code",
      "source": [
        "#Import your packages\n",
        "import numpy as np\n",
        "import cv2\n",
        "from matplotlib import pyplot as plt\n",
        "\n",
        "\n",
        "\n",
        "rand_nums_zero = np.random.randint(40,120,30) #30 random heights of crops between 40-120\n",
        "rand_nums_one = np.random.randint(175,244,30) #30 random heights of crops between 175-244\n",
        "result_vector = np.hstack((rand_nums_zero, rand_nums_one)) #horizontal vector of d and t\n",
        "result_vector = result_vector.reshape((60,1)) #reshaping the result_vectore into 60 rows and 1 column\n",
        "result_vector = np.float32(result_vector) #turn ints into floats\n",
        "plt.hist(result_vector,300,[0,300]) #create a histogram of our result_vector\n",
        "plt.show() #display the result_vector"
      ],
      "execution_count": 28,
      "outputs": [
        {
          "output_type": "display_data",
          "data": {
            "image/png": "[encoded data removed]",
            "text/plain": [
              "<Figure size 432x288 with 1 Axes>"
            ]
          },
          "metadata": {
            "tags": []
          }
        }
      ]
    },
    {
      "metadata": {
        "id": "NlAV206-LnFw",
        "colab_type": "text"
      },
      "cell_type": "markdown",
      "source": [
        "#Apply the K-Means Algorithm"
      ]
    },
    {
      "metadata": {
        "id": "LA_8TQ4xLcGw",
        "colab_type": "code",
        "colab": {}
      },
      "cell_type": "code",
      "source": [
        "#criteria_for_our_kmeans = (type, iterations, epsilon)\n",
        "#our algorithm will cease when either our iterations are reached OR when our epsilon = 1.0 \n",
        "k_means_basis = (cv2.TERM_CRITERIA_EPS + cv2.TERM_CRITERIA_MAX_ITER, 10, 1.0)\n",
        "\n",
        "#set flags so we can just in case the code breaks\n",
        "flags = cv2.KMEANS_RANDOM_CENTERS\n",
        "\n",
        "#Apply Kmeans\n",
        "density, labels, centroids = cv2.kmeans(result_vector, 2, None, k_means_basis, 10, flags)"
      ],
      "execution_count": 0,
      "outputs": []
    },
    {
      "metadata": {
        "id": "C99yQaVVP50f",
        "colab_type": "code",
        "colab": {}
      },
      "cell_type": "code",
      "source": [
        "#Split the data into separate slices of data\n",
        "separate_data_0 = result_vector[labels == 0]\n",
        "separate_data_1 = result_vector[labels == 1]"
      ],
      "execution_count": 0,
      "outputs": []
    },
    {
      "metadata": {
        "id": "LhE1_pOEQNgE",
        "colab_type": "text"
      },
      "cell_type": "markdown",
      "source": [
        "#Create a histogram that plots 'A' in red, 'B' in blue, and the centroids in yellow."
      ]
    },
    {
      "metadata": {
        "id": "He8i-AwSQMH8",
        "colab_type": "code",
        "colab": {
          "base_uri": "https://localhost:8080/",
          "height": 270
        },
        "outputId": "b69c2ac7-8606-41b3-d5fa-ae5fe229273e"
      },
      "cell_type": "code",
      "source": [
        "#what centroid to use, range of graph, range of bins, color of lines\n",
        "plt.hist(separate_data_0, 300, [0,300], color = 'r') \n",
        "plt.hist(separate_data_1, 300, [0,300], color = 'b')\n",
        "plt.hist(centroids, 32, [0,300], color = 'y')\n",
        "plt.show() #display our graph"
      ],
      "execution_count": 35,
      "outputs": [
        {
          "output_type": "display_data",
          "data": {
            "image/png": "[encoded data removed]",
            "text/plain": [
              "<Figure size 432x288 with 1 Axes>"
            ]
          },
          "metadata": {
            "tags": []
          }
        }
      ]
    },
    {
      "metadata": {
        "id": "cNioJ0VZR9Y6",
        "colab_type": "text"
      },
      "cell_type": "markdown",
      "source": [
        "#What we are looking at is the use of k-means applied to an unknown (in this case, arbitrary heights) dataset. We have two spots highlighted in yellow which represent the centroids of each cluster."
      ]
    },
    {
      "metadata": {
        "id": "VWQ3CKq7-9Es",
        "colab_type": "text"
      },
      "cell_type": "markdown",
      "source": [
        "\n",
        "\n",
        "---\n",
        "\n"
      ]
    },
    {
      "metadata": {
        "id": "yX3CnCiH8kH3",
        "colab_type": "text"
      },
      "cell_type": "markdown",
      "source": [
        "#Congrats!  Now lets find clusters of groups that have 2 features:  Minutes of Sunlight vs Pints of Water"
      ]
    },
    {
      "metadata": {
        "id": "KAlkE0XEt7Sj",
        "colab_type": "code",
        "colab": {
          "base_uri": "https://localhost:8080/",
          "height": 283
        },
        "outputId": "d40f2770-65fe-47e5-b907-c8dfb1fccf7e"
      },
      "cell_type": "code",
      "source": [
        "import numpy as np\n",
        "import cv2\n",
        "from matplotlib import pyplot as plt\n",
        "\n",
        "yield_0 = np.random.randint(60,305,(70,2)) #ranges from 60 to 305 with 70 data points\n",
        "\n",
        "yield_1 = np.random.randint(324,720,(70,2)) #ranges form 324 to 720 with 70 data points\n",
        "\n",
        "result_vector = np.vstack((yield_0,yield_1)) #place both yields into a single vector\n",
        "\n",
        "# convert to np.float32\n",
        "result_vector = np.float32(result_vector)\n",
        "\n",
        "# define criteria and apply kmeans()\n",
        "kmeans_basis = (cv2.TERM_CRITERIA_EPS + cv2.TERM_CRITERIA_MAX_ITER, 10, 1.0)\n",
        "\n",
        "flags = cv2.KMEANS_RANDOM_CENTERS #just in case our code breaks\n",
        "\n",
        "ret,label,centroids=cv2.kmeans(result_vector,2,None,kmeans_basis,10,flags)\n",
        "\n",
        "# Now separate the data, Note the flatten()\n",
        "sep_data_0 = result_vector[label.ravel()==0]\n",
        "sep_data_1 = result_vector[label.ravel()==1]\n",
        "\n",
        "# Plot the data\n",
        "plt.scatter(sep_data_0[:,0],sep_data_0[:,1])\n",
        "plt.scatter(sep_data_1[:,0],sep_data_1[:,1],c = 'r')\n",
        "plt.scatter(centroids[:,0],centroids[:,1],s = 250,c = 'y', marker = 's')\n",
        "plt.xlabel('Minutes of Sunlight'),plt.ylabel('Pints of Water')\n",
        "plt.show()"
      ],
      "execution_count": 66,
      "outputs": [
        {
          "output_type": "display_data",
          "data": {
            "image/png": "[encoded data removed]",
            "text/plain": [
              "<Figure size 432x288 with 1 Axes>"
            ]
          },
          "metadata": {
            "tags": []
          }
        }
      ]
    },
    {
      "metadata": {
        "id": "HYXcW6C0_HU1",
        "colab_type": "text"
      },
      "cell_type": "markdown",
      "source": [
        "#What you're looking at are 2 groups that share similar features! The farmer can now get a better idea of how to grow his garden! Thank you for all your help and I'm looking forward to our next mission!"
      ]
    }
  ]
}